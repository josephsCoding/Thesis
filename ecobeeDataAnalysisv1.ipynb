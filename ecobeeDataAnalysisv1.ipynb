{
 "cells": [
  {
   "cell_type": "markdown",
   "metadata": {},
   "source": [
    "# Mix of different classification algorithms"
   ]
  },
  {
   "cell_type": "code",
   "execution_count": 1,
   "metadata": {
    "collapsed": false
   },
   "outputs": [],
   "source": [
    "from __future__ import division\n",
    "import graphlab\n",
    "import pandas as pd\n",
    "import numpy as np\n",
    "import matplotlib.pyplot as plt\n",
    "import math\n",
    "import timeit\n",
    "from sklearn.model_selection import train_test_split\n",
    "from sklearn import tree\n",
    "from sklearn import ensemble\n",
    "from sklearn.model_selection import cross_val_score\n",
    "from sklearn.model_selection import GridSearchCV\n",
    "from sklearn.model_selection import KFold\n",
    "from sklearn.feature_selection import RFECV\n",
    "from sklearn.metrics import accuracy_score\n",
    "from sklearn.metrics import f1_score\n",
    "from sklearn.metrics import confusion_matrix\n",
    "from scipy import stats\n",
    "import graphviz\n",
    "from sklearn import feature_selection"
   ]
  },
  {
   "cell_type": "code",
   "execution_count": 2,
   "metadata": {
    "collapsed": false
   },
   "outputs": [
    {
     "name": "stdout",
     "output_type": "stream",
     "text": [
      "This non-commercial license of GraphLab Create for academic use is assigned to joseph.j.ng3698@gmail.com and will expire on May 24, 2019.\n"
     ]
    },
    {
     "name": "stderr",
     "output_type": "stream",
     "text": [
      "[INFO] graphlab.cython.cy_server: GraphLab Create v2.1 started. Logging: C:\\Users\\josep\\AppData\\Local\\Temp\\graphlab_server_1540732822.log.0\n"
     ]
    },
    {
     "data": {
      "text/html": [
       "<pre>Finished parsing file C:\\Users\\josep\\Documents\\University of Toronto\\Summaries\\fromPythonCurveFitSimilarRowColumnAvgv3145.csv</pre>"
      ],
      "text/plain": [
       "Finished parsing file C:\\Users\\josep\\Documents\\University of Toronto\\Summaries\\fromPythonCurveFitSimilarRowColumnAvgv3145.csv"
      ]
     },
     "metadata": {},
     "output_type": "display_data"
    },
    {
     "data": {
      "text/html": [
       "<pre>Parsing completed. Parsed 100 lines in 0.103719 secs.</pre>"
      ],
      "text/plain": [
       "Parsing completed. Parsed 100 lines in 0.103719 secs."
      ]
     },
     "metadata": {},
     "output_type": "display_data"
    },
    {
     "name": "stdout",
     "output_type": "stream",
     "text": [
      "------------------------------------------------------\n",
      "Inferred types from first 100 line(s) of file as \n",
      "column_type_hints=[long,long,str,str,str,str,str,str,long,str,long,long,long,str,str,long,str,float,float,float,float,float,float,float,float,float,float,float,float,float,float,float,long,float,float,float,float,long,float,float,float,float,long,float,float,float,float,long,float,float,float,float,long,float,float,float,float,long,float,float,float,float,long,float,float,float,float,long,float,float,float,float,long,float,float,float,float,long,float,float,float,float,long,float,float,float,float,long,float,float,float,float,long,float,float,float,float,long,float,float,float,float,long,float,float,float,float,long,float,float,float,float,long,float,float,float,float,long,float,float,float,float,long]\n",
      "If parsing fails due to incorrect types, you can correct\n",
      "the inferred type list above and pass it to read_csv in\n",
      "the column_type_hints argument\n",
      "------------------------------------------------------\n"
     ]
    },
    {
     "data": {
      "text/html": [
       "<pre>Finished parsing file C:\\Users\\josep\\Documents\\University of Toronto\\Summaries\\fromPythonCurveFitSimilarRowColumnAvgv3145.csv</pre>"
      ],
      "text/plain": [
       "Finished parsing file C:\\Users\\josep\\Documents\\University of Toronto\\Summaries\\fromPythonCurveFitSimilarRowColumnAvgv3145.csv"
      ]
     },
     "metadata": {},
     "output_type": "display_data"
    },
    {
     "data": {
      "text/html": [
       "<pre>Parsing completed. Parsed 3145 lines in 0.078788 secs.</pre>"
      ],
      "text/plain": [
       "Parsing completed. Parsed 3145 lines in 0.078788 secs."
      ]
     },
     "metadata": {},
     "output_type": "display_data"
    }
   ],
   "source": [
    "data_path ='C:\\Users\\josep\\Documents\\University of Toronto\\Summaries\\\\fromPythonCurveFitSimilarRowColumnAvgv3145.csv' \n",
    "data = graphlab.SFrame(data_path)"
   ]
  },
  {
   "cell_type": "code",
   "execution_count": 3,
   "metadata": {
    "collapsed": false
   },
   "outputs": [],
   "source": [
    "columns_to_remove = ['Identifier', 'Model', 'Has a Heat Pump', 'filename', \n",
    "                    'Number of Remote Sensors', 'Auxiliary Heat Fuel Type', 'Country', 'Province/State', 'fill']\n",
    "\n",
    "for column in columns_to_remove:\n",
    "    data.remove_column(column)"
   ]
  },
  {
   "cell_type": "code",
   "execution_count": 4,
   "metadata": {
    "collapsed": false
   },
   "outputs": [],
   "source": [
    "# Converting style of home to a categorical variable \n",
    "categoricalStyle = data['Style']\n",
    "categoricalStyle = pd.get_dummies(categoricalStyle)\n",
    "data = data.to_dataframe()\n",
    "data = data.merge(categoricalStyle, left_index=True, right_index=True)\n"
   ]
  },
  {
   "cell_type": "code",
   "execution_count": 5,
   "metadata": {
    "collapsed": false
   },
   "outputs": [],
   "source": [
    "# Pick and choose the time period that we are interested in\n",
    "#winter = ['2017_01','2017_02','2017_03' ] \n",
    "#spring = ['2017_04','2017_05','2017_06','2016_04','2016_05','2016_06' ] \n",
    "#summer = ['2017_07','2017_08','2017_09','2016_07','2016_08','2016_09' ] \n",
    "#fall = ['2016_10','2016_11','2016_12' ] \n",
    "#cities = ['Austin', 'San Diego', 'Nashville','Toronto', 'Chicago', 'Calgary', 'Miami']\n",
    "summer = ['2017_07']\n",
    "winter = ['2017_01']\n",
    "\n",
    "# Pick and choose the features that we are interested in\n",
    "\n",
    "timeOfInterest = summer + winter\n",
    "climateZone = ['ASHRAE Climate Zone']\n",
    "modelFeatures = ['Floor Area [ft2]', 'Number of Occupants', 'Number of Floors', 'Age of Home [years]']\n",
    "houseStyles = ['Apartment','Condominium','Detached','Loft','MultiPlex','RowHouse','SemiDetached','Townhouse']\n",
    "interestedFeatures = ['Floor Area [ft2]', 'Number of Occupants', 'Number of Floors', 'Age of Home [years]']\n",
    "\n",
    "# Obtain environmental parameters\n",
    "indoorRH = []\n",
    "indoorTemp = []\n",
    "outdoorRH = []\n",
    "outdoorTemp = []\n",
    "adjustments = []\n",
    "\n",
    "for month in timeOfInterest:\n",
    "    indoorRH.append('{month} Indoor RH'.format(month=month))\n",
    "    indoorTemp.append('{month} Indoor Temp'.format(month = month))\n",
    "    outdoorRH.append('{month} Outdoor RH'.format(month = month))\n",
    "    outdoorTemp.append('{month} Outdoor Temp'.format(month = month))\n",
    "    adjustments.append('{month} Adjust'.format(month = month))\n"
   ]
  },
  {
   "cell_type": "code",
   "execution_count": 135,
   "metadata": {
    "collapsed": false
   },
   "outputs": [
    {
     "data": {
      "image/png": "[encoded data removed]",
      "text/plain": [
       "<matplotlib.figure.Figure at 0x30136780>"
      ]
     },
     "metadata": {},
     "output_type": "display_data"
    }
   ],
   "source": [
    "# Bins are based on [twice per week, every other day, every day, twice per day]\n",
    "\n",
    "%matplotlib inline\n",
    "\n",
    "binsWinter = [0, 8, 16, 31, 62, data['2017_01 Adjust'].max()]\n",
    "histWinter, binsWinter = np.histogram(data['2017_01 Adjust'], bins=binsWinter)\n",
    "widthsWinter = 10\n",
    "centerWinter = (binsWinter[:-1] + binsWinter[1:])/2\n",
    "\n",
    "binsSummer = [0, 8, 16, 31, 62, int(data['2017_07 Adjust'].max())]\n",
    "histSummer, binsSummer = np.histogram(data['2017_07 Adjust'], bins=binsSummer)\n",
    "widthsSummer = 10\n",
    "centerSummer = (binsSummer[:-1] + binsSummer[1:])/2\n",
    "\n",
    "plt.bar(centerWinter, histWinter, align='center', width=widthsWinter)\n",
    "plt.bar(centerSummer, histSummer, align='center', width=widthsSummer)\n",
    "plt.show()"
   ]
  },
  {
   "cell_type": "markdown",
   "metadata": {},
   "source": [
    "# Choose 1 Function to create a target column\n",
    "\n",
    "createTargetColumnBinary: Creates 2 classes. Comfortable if number of comfortable months > uncomfortable months\n",
    "<br>\n",
    "createMultipleTargetColumn: Creates multiple classes based on predefined bins\n",
    "<br>\n",
    "createMultipleTargetColumn3Class: Creates 3 classes. [Comfortable, uncomfortable, undecided]. \n",
    "<br>\n",
    "Undecided if there are 2 months and each month is split between comfortable and uncomfortable. \n",
    "<br>\n",
    "Undecided if there are 3 months and there is a mix of months that are comfortable and uncomfortable\n"
   ]
  },
  {
   "cell_type": "code",
   "execution_count": 176,
   "metadata": {
    "collapsed": true
   },
   "outputs": [],
   "source": [
    "# Creating the target columns\n",
    "# A house is comfortable if the number of thermostat adjustments for that month is less than the average thermostat adjustments\n",
    "# for that month\n",
    "# If the house is uncomfortable for more than half of the months, then the target column = 'Uncomfortable'\n",
    "def createTargetColumnBinary(data, adjustments):\n",
    "    dataTargetColumn = data[adjustments]\n",
    "    target = []\n",
    "\n",
    "    for i in range(0, len(dataTargetColumn)):\n",
    "        comfortableCounter = 0\n",
    "        uncomfortableCounter = 0\n",
    "        dataPoint = dataTargetColumn.iloc[i, :]\n",
    "\n",
    "        for j in range(0, len(adjustments)):\n",
    "            if dataPoint[j] <= dataTargetColumn.iloc[:, j].mean():\n",
    "                comfortableCounter += 1\n",
    "            else:\n",
    "                uncomfortableCounter += 1\n",
    "            \n",
    "        if comfortableCounter > uncomfortableCounter:\n",
    "            target.append('Comfortable')\n",
    "        else:\n",
    "            target.append('Uncomfortable')\n",
    "\n",
    "    return target\n",
    "\n",
    "testTarget = createTargetColumnBinary(data, adjustments)\n"
   ]
  },
  {
   "cell_type": "code",
   "execution_count": 136,
   "metadata": {
    "collapsed": false
   },
   "outputs": [],
   "source": [
    "# Creating target column with multiple classes based on the bins created previously \n",
    "def createMultipleTargetColumn(data, adjustments, binsWinter, binsSummer):\n",
    "    dataTargetColumn = data[adjustments]\n",
    "    maxAdjustment = dataTargetColumn.max()\n",
    "    targetSummer = []\n",
    "    targetWinter = []\n",
    "    \n",
    "    for i in range(0, len(dataTargetColumn)):\n",
    "        comfortableCounter = 0\n",
    "        uncomfortableCounter = 0\n",
    "        dataPoint = dataTargetColumn.iloc[i, :]\n",
    "\n",
    "        for j in range(0, len(adjustments)):\n",
    "            if adjustments[j] == '2017_01 Adjust':\n",
    "                for k in range(1, len(binsWinter)+1):\n",
    "                    if dataPoint[j] <= binsWinter[k]:\n",
    "                        targetWinter.append(k)\n",
    "                        break\n",
    "            else:\n",
    "                for m in range(1, len(binsSummer)+1):\n",
    "                    if dataPoint[j] <= binsSummer[m]:\n",
    "                        targetSummer.append(m)\n",
    "                        break\n",
    "\n",
    "    return targetWinter, targetSummer\n",
    "  \n",
    "targetWinter, targetSummer = createMultipleTargetColumn(data, adjustments,\n",
    "                                                        binsWinter, binsSummer)"
   ]
  },
  {
   "cell_type": "code",
   "execution_count": 6,
   "metadata": {
    "collapsed": false
   },
   "outputs": [],
   "source": [
    "# Explanation for how the classes are created can be found above\n",
    "\n",
    "def createMultipleTargetColumn3Class(data, adjustments):\n",
    "    dataTargetColumn = data[adjustments]\n",
    "   \n",
    "    target = []\n",
    "\n",
    "    for i in range(0, len(dataTargetColumn)):\n",
    "        comfortableCounter = 0\n",
    "        uncomfortableCounter = 0\n",
    "        dataPoint = dataTargetColumn.iloc[i, :]\n",
    "\n",
    "        for j in range(0, len(adjustments)):\n",
    "            if dataPoint[j] <= dataTargetColumn.iloc[:, j].mean():\n",
    "                comfortableCounter += 1\n",
    "            else:\n",
    "                uncomfortableCounter += 1\n",
    "            \n",
    "        if comfortableCounter > uncomfortableCounter:  # uncomfortableCounter: # and comfortableCounter >=4:\n",
    "            target.append('Comfortable')\n",
    "        elif uncomfortableCounter > comfortableCounter:  # comfortableCounter: # uncomfortableCounter: # and comfortableCounter <=2:\n",
    "            target.append('Uncomfortable')\n",
    "        else:\n",
    "            target.append('Undecided')\n",
    "\n",
    "    return target\n",
    "\n",
    "testTarget = createMultipleTargetColumn3Class(data, adjustments)"
   ]
  },
  {
   "cell_type": "code",
   "execution_count": 7,
   "metadata": {
    "collapsed": false
   },
   "outputs": [
    {
     "name": "stdout",
     "output_type": "stream",
     "text": [
      "645\n",
      "1685\n",
      "815\n"
     ]
    }
   ],
   "source": [
    "# Checking class instability \n",
    "print len([i for i, x in enumerate(testTarget) if x == 'Uncomfortable'])\n",
    "print len([i for i, x in enumerate(testTarget) if x == 'Comfortable'])\n",
    "print len([i for i, x in enumerate(testTarget) if x == 'Undecided'])"
   ]
  },
  {
   "cell_type": "code",
   "execution_count": 137,
   "metadata": {
    "collapsed": false
   },
   "outputs": [
    {
     "name": "stdout",
     "output_type": "stream",
     "text": [
      "Number of data points in each class label\n",
      "1696\n",
      "3791\n",
      "1626\n",
      "558\n",
      "1020\n",
      "1131\n",
      "520\n",
      "923\n",
      "342\n",
      "315\n",
      "475\n",
      "46\n",
      "56\n",
      "81\n",
      "0\n"
     ]
    }
   ],
   "source": [
    "# creating final target column\n",
    "testTarget = []\n",
    "for i in range(0, len(targetWinter)):\n",
    "    testTarget.append(int((targetWinter[i] + targetSummer[i])/2))\n",
    "\n",
    "print \"Number of data points in each class label\"\n",
    "for j in range(1, len(binsWinter)):\n",
    "    test = [i for i, x in enumerate(testTarget) if x == j]\n",
    "    testWinter = [i for i, x in enumerate(targetWinter) if x == j]\n",
    "    testSummer = [i for i, x in enumerate(targetSummer) if x == j]\n",
    "    print len(testWinter)\n",
    "    print len(testSummer)\n",
    "    print len(test)"
   ]
  },
  {
   "cell_type": "code",
   "execution_count": 8,
   "metadata": {
    "collapsed": false
   },
   "outputs": [],
   "source": [
    "dataOriginal = pd.DataFrame(data, copy = True)\n",
    "dataNormalized = pd.DataFrame(data, copy = True)"
   ]
  },
  {
   "cell_type": "code",
   "execution_count": 9,
   "metadata": {
    "collapsed": false
   },
   "outputs": [
    {
     "data": {
      "text/plain": [
       "['Floor Area [ft2]',\n",
       " 'Number of Occupants',\n",
       " 'Number of Floors',\n",
       " 'Age of Home [years]',\n",
       " 'Apartment',\n",
       " 'Condominium',\n",
       " 'Detached',\n",
       " 'Loft',\n",
       " 'MultiPlex',\n",
       " 'RowHouse',\n",
       " 'SemiDetached',\n",
       " 'Townhouse',\n",
       " 'ASHRAE Climate Zone',\n",
       " '2017_07 Indoor Temp',\n",
       " '2017_01 Indoor Temp',\n",
       " '2017_07 Indoor RH',\n",
       " '2017_01 Indoor RH',\n",
       " '2017_07 Outdoor Temp',\n",
       " '2017_01 Outdoor Temp',\n",
       " '2017_07 Outdoor RH',\n",
       " '2017_01 Outdoor RH']"
      ]
     },
     "execution_count": 9,
     "metadata": {},
     "output_type": "execute_result"
    }
   ],
   "source": [
    "# Choosing which features are included in the model \n",
    "features =  interestedFeatures + houseStyles + climateZone + indoorTemp + indoorRH + outdoorTemp + outdoorRH\n",
    "#features =  interestedFeatures + houseStyles + climateZone + indoorTemp + indoorRH + outdoorTemp + outdoorRH\n",
    "#features = indoorTemp + indoorRH + outdoorTemp + outdoorRH\n",
    "features"
   ]
  },
  {
   "cell_type": "code",
   "execution_count": 10,
   "metadata": {
    "collapsed": true
   },
   "outputs": [],
   "source": [
    "# Function to normalize the data (scale between 0 and 1)\n",
    "def normalize(column):\n",
    "    newColumn = []\n",
    "    maxValue = max(column)\n",
    "    minValue = min(column)\n",
    "\n",
    "    for i in range(0, len(column)):\n",
    "\n",
    "        normalizedValue = (column[i] - minValue) / (maxValue - minValue)\n",
    "        newColumn.append(normalizedValue)\n",
    "\n",
    "    return newColumn, maxValue, minValue"
   ]
  },
  {
   "cell_type": "code",
   "execution_count": 11,
   "metadata": {
    "collapsed": false
   },
   "outputs": [
    {
     "name": "stderr",
     "output_type": "stream",
     "text": [
      "C:\\Users\\josep\\Anaconda2\\envs\\gl-env\\lib\\site-packages\\ipykernel\\__main__.py:15: SettingWithCopyWarning: \n",
      "A value is trying to be set on a copy of a slice from a DataFrame.\n",
      "Try using .loc[row_indexer,col_indexer] = value instead\n",
      "\n",
      "See the caveats in the documentation: http://pandas.pydata.org/pandas-docs/stable/indexing.html#indexing-view-versus-copy\n"
     ]
    }
   ],
   "source": [
    "# Normalizing the data\n",
    "\n",
    "combined = features\n",
    "dataNormalized = dataNormalized.reset_index(drop=True)\n",
    "dataUnnormalized = pd.DataFrame(dataNormalized, copy=True)  # creating a copy of the original with the same index\n",
    "dataToNormalize = dataNormalized[combined]\n",
    "\n",
    "maxVals = []\n",
    "minVals = []\n",
    "minMaxdf = pd.DataFrame({'Value': ['Min', 'Max']})\n",
    "\n",
    "for i in list(dataToNormalize.columns.values):\n",
    "    dataColumn = dataToNormalize[i]\n",
    "    normalizedColumn, maxValue, minValue = normalize(dataColumn)\n",
    "    dataToNormalize[i] = normalizedColumn\n",
    "    maxVals.append(maxValue)\n",
    "    minVals.append(minValue)\n",
    "    minMaxdf[i] = [minValue, maxValue]\n",
    "dataNormalized.update(dataToNormalize)\n"
   ]
  },
  {
   "cell_type": "code",
   "execution_count": 64,
   "metadata": {
    "collapsed": false,
    "scrolled": false
   },
   "outputs": [],
   "source": [
    "x = dataNormalized[features]\n",
    "y = testTarget\n",
    "\n",
    "x_train, x_test, y_train, y_test = train_test_split(x,y,test_size = 0.1, random_state = 0)"
   ]
  },
  {
   "cell_type": "code",
   "execution_count": 65,
   "metadata": {
    "collapsed": true
   },
   "outputs": [],
   "source": [
    "#class_weight = 'balanced'\n",
    "class_weight = None\n",
    "scoring = 'accuracy'\n",
    "#scoring = 'f1_weighted'"
   ]
  },
  {
   "cell_type": "code",
   "execution_count": 67,
   "metadata": {
    "collapsed": false
   },
   "outputs": [],
   "source": [
    "def nested_cv(model, param, x_train, y_train):\n",
    "    cv_inner = KFold(n_splits=10, shuffle=True, random_state=0)\n",
    "    cv_outer = KFold(n_splits =10, shuffle=True, random_state=0)\n",
    "    start = timeit.default_timer()\n",
    "    \n",
    "    # Inner Loop\n",
    "    clf = GridSearchCV(estimator = model, param_grid=param, cv=cv_inner, scoring=scoring)\n",
    "    \n",
    "    # Outer Loop\n",
    "    nested_scores = cross_val_score(clf, X=x_train, y=y_train, cv=cv_outer)\n",
    "    nested_score_avg = scores.mean()\n",
    "    nested_score_std = scores.std()\n",
    "                                        \n",
    "    stop = timeit.default_timer()\n",
    "    print('Time: ', stop - start) \n",
    "    return nested_scores, nested_score_avg, nested_score_std\n",
    "    \n"
   ]
  },
  {
   "cell_type": "code",
   "execution_count": 68,
   "metadata": {
    "collapsed": false
   },
   "outputs": [],
   "source": [
    "dt = tree.DecisionTreeClassifier(class_weight=class_weight)\n",
    "rf = ensemble.RandomForestClassifier(class_weight=class_weight)\n",
    "models = [dt, rf]\n",
    "num_trials = 1\n",
    "nested_scores = []\n",
    "\n",
    "params = [{'max_depth': range(3, 20), \n",
    "         'criterion': ['gini', 'entropy'],\n",
    "        'min_samples_split': np.linspace(0.1, 0.5, 5),\n",
    "         'min_samples_leaf': np.linspace(0.01,0.5,5),\n",
    "        'min_impurity_decrease': np.linspace(0.1,0.4,4)},\n",
    "         {'n_estimators': np.arange(10,25,5), 'max_depth': range(3, 20), \n",
    "          'max_features': ['auto', 'log2', None], 'min_samples_split': np.linspace(0.1,0.5,5), \n",
    "          'criterion': ['gini', 'entropy']}]\n",
    "\n"
   ]
  },
  {
   "cell_type": "code",
   "execution_count": null,
   "metadata": {
    "collapsed": false
   },
   "outputs": [],
   "source": [
    "nested_score_dt, nested_score_avg_dt, nested_score_std_dt = nested_cv(dt, params[0], x_train, y_train)\n",
    "nested_score_rf, nested_score_avg_rf, nested_score_std_rf = nested_cv(rf, params[1], x_train, y_train)\n",
    "\n",
    "print \"Decision Tree Results\"\n",
    "print nested_score_dt\n",
    "print nested_score_avg_dt\n",
    "print nested_score_std_dt\n",
    "print \"Random Forest Results\"\n",
    "print nested_score_rf\n",
    "print nested_score_avg_rf\n",
    "print nested_score_std_rf"
   ]
  },
  {
   "cell_type": "code",
   "execution_count": null,
   "metadata": {
    "collapsed": false
   },
   "outputs": [],
   "source": [
    "# If you are happy with the unbiased performance, retrain the model using all of the training data on the best parameters. \n",
    "clf.fit(x_train,y_train)\n",
    "print clf.best_params_\n",
    "optimal_criterion = clf.best_params_.get('criterion')\n",
    "optimal_min_samples_split = clf.best_params_.get('min_samples_split')\n",
    "optimal_max_depth = clf.best_params_.get('max_depth')\n",
    "optimal_min_samples_leaf = clf.best_params_.get('min_samples_leaf')"
   ]
  },
  {
   "cell_type": "code",
   "execution_count": 162,
   "metadata": {
    "collapsed": false
   },
   "outputs": [],
   "source": [
    "# retraining model so it does not have to initiate a GridSearchCV every time\n",
    "model = tree.DecisionTreeClassifier(class_weight=class_weight, criterion=optimal_criterion, random_state=0,\n",
    "                                    max_depth=optimal_max_depth, \n",
    "                                    min_samples_split=optimal_min_samples_split,\n",
    "                                    #min_samples_leaf=optimal_min_samples_leaf, \n",
    "                                    splitter='best').fit(x_train, y_train)"
   ]
  },
  {
   "cell_type": "code",
   "execution_count": 163,
   "metadata": {
    "collapsed": false
   },
   "outputs": [
    {
     "name": "stdout",
     "output_type": "stream",
     "text": [
      "Training Set Accuracy: 0.202120141343\n",
      "Test Set Accuracy: 0.15873015873\n"
     ]
    }
   ],
   "source": [
    "# Obtaining model accuracy \n",
    "print \"Training Set Accuracy: \" + str(model.score(x_train, y_train))\n",
    "prediction = model.predict(x_test)\n",
    "print \"Test Set Accuracy: \" + str(accuracy_score(y_test, prediction, normalize=True))\n",
    "\n",
    "# If you are happy with the test and training accuracies, then you are finished. The test accuracy should not be significantly different\n",
    "# from the training and nested accuracies. \n",
    "# If you are happy with the test and training accuracies, then you are finished"
   ]
  },
  {
   "cell_type": "code",
   "execution_count": 49,
   "metadata": {
    "collapsed": false,
    "scrolled": false
   },
   "outputs": [
    {
     "data": {
      "text/html": [
       "<div>\n",
       "<table border=\"1\" class=\"dataframe\">\n",
       "  <thead>\n",
       "    <tr style=\"text-align: right;\">\n",
       "      <th></th>\n",
       "      <th>Feature</th>\n",
       "      <th>Importance</th>\n",
       "    </tr>\n",
       "  </thead>\n",
       "  <tbody>\n",
       "    <tr>\n",
       "      <th>4</th>\n",
       "      <td>2017_01 Outdoor Temp</td>\n",
       "      <td>0.575229</td>\n",
       "    </tr>\n",
       "    <tr>\n",
       "      <th>5</th>\n",
       "      <td>2017_07 Outdoor Temp</td>\n",
       "      <td>0.234464</td>\n",
       "    </tr>\n",
       "    <tr>\n",
       "      <th>6</th>\n",
       "      <td>2017_01 Outdoor RH</td>\n",
       "      <td>0.190307</td>\n",
       "    </tr>\n",
       "    <tr>\n",
       "      <th>0</th>\n",
       "      <td>2017_01 Indoor Temp</td>\n",
       "      <td>0.000000</td>\n",
       "    </tr>\n",
       "    <tr>\n",
       "      <th>1</th>\n",
       "      <td>2017_07 Indoor Temp</td>\n",
       "      <td>0.000000</td>\n",
       "    </tr>\n",
       "    <tr>\n",
       "      <th>2</th>\n",
       "      <td>2017_01 Indoor RH</td>\n",
       "      <td>0.000000</td>\n",
       "    </tr>\n",
       "    <tr>\n",
       "      <th>3</th>\n",
       "      <td>2017_07 Indoor RH</td>\n",
       "      <td>0.000000</td>\n",
       "    </tr>\n",
       "    <tr>\n",
       "      <th>7</th>\n",
       "      <td>2017_07 Outdoor RH</td>\n",
       "      <td>0.000000</td>\n",
       "    </tr>\n",
       "  </tbody>\n",
       "</table>\n",
       "</div>"
      ],
      "text/plain": [
       "                Feature  Importance\n",
       "4  2017_01 Outdoor Temp    0.575229\n",
       "5  2017_07 Outdoor Temp    0.234464\n",
       "6    2017_01 Outdoor RH    0.190307\n",
       "0   2017_01 Indoor Temp    0.000000\n",
       "1   2017_07 Indoor Temp    0.000000\n",
       "2     2017_01 Indoor RH    0.000000\n",
       "3     2017_07 Indoor RH    0.000000\n",
       "7    2017_07 Outdoor RH    0.000000"
      ]
     },
     "execution_count": 49,
     "metadata": {},
     "output_type": "execute_result"
    }
   ],
   "source": [
    "# Obtain feature importances\n",
    "importance = [x for x in model.feature_importances_]\n",
    "featureImportance = {'Feature': features, 'Importance': importance}\n",
    "summary = pd.DataFrame(data=featureImportance)\n",
    "summarySorted = summary.sort_values(by=['Importance'], ascending=False)\n",
    "summarySorted"
   ]
  },
  {
   "cell_type": "code",
   "execution_count": 87,
   "metadata": {
    "collapsed": false
   },
   "outputs": [
    {
     "data": {
      "image/png": "[encoded data removed]",
      "text/plain": [
       "<matplotlib.figure.Figure at 0x2b7301d0>"
      ]
     },
     "metadata": {},
     "output_type": "display_data"
    }
   ],
   "source": [
    "# Plot feature importances ranking\n",
    "% matplotlib inline\n",
    "plt.figure(figsize=(15, 10))\n",
    "plt.bar(range(0, len(summarySorted)), summarySorted['Importance'], align='center')\n",
    "plt.xticks(range(0, len(summarySorted)), summarySorted['Feature'], rotation=90)\n",
    "plt.xlabel(\"Features\")\n",
    "plt.ylabel(\"Feature Importance\")\n",
    "plt.rc('xtick', labelsize=15)\n",
    "plt.rc('xtick', labelsize=15)\n",
    "plt.rc('axes', labelsize=15)\n",
    "plt.show()"
   ]
  },
  {
   "cell_type": "code",
   "execution_count": 302,
   "metadata": {
    "collapsed": true
   },
   "outputs": [],
   "source": [
    "# Function to un-normalize data\n",
    "\n",
    "def unnormalize(column, minValue, maxValue):\n",
    "    newColumn = []\n",
    "\n",
    "    for i in range(0, len(column)):\n",
    "\n",
    "        originalValue = column.iloc[i] * (maxValue - minValue) + minValue\n",
    "        newColumn.append(originalValue)\n",
    "\n",
    "    return newColumn"
   ]
  },
  {
   "cell_type": "code",
   "execution_count": 133,
   "metadata": {
    "collapsed": false
   },
   "outputs": [
    {
     "data": {
      "text/plain": [
       "array([[114,   0,  96],\n",
       "       [  0,   0,   0],\n",
       "       [ 33,   0,  72]], dtype=int64)"
      ]
     },
     "execution_count": 133,
     "metadata": {},
     "output_type": "execute_result"
    }
   ],
   "source": [
    "# Confusion matrix to count false positives/negatives\n",
    "# Rows = actual, columns = prediction\n",
    "confusion_matrix(y_test, prediction, labels=['Comfortable', 'Undecided', 'Uncomfortable'])"
   ]
  },
  {
   "cell_type": "code",
   "execution_count": 157,
   "metadata": {
    "collapsed": false
   },
   "outputs": [
    {
     "data": {
      "text/plain": [
       "array([1, 1, 1, 2, 1, 1, 1, 2, 1, 1, 1, 1, 1, 1, 1, 1, 1, 1, 1, 1, 1, 2, 1,\n",
       "       1, 1, 1, 1, 1, 1, 1, 1, 2, 1, 1, 1, 1, 1, 1, 1, 1, 1, 1, 1, 1, 1, 1,\n",
       "       1, 1, 1, 1, 1, 1, 1, 1, 1, 1, 1, 1, 1, 1, 1, 1, 1, 1, 1, 1, 1, 1, 1,\n",
       "       2, 1, 1, 1, 1, 1, 1, 1, 1, 1, 1, 1, 1, 1, 1, 1, 1, 1, 1, 1, 1, 1, 1,\n",
       "       1, 1, 1, 1, 1, 1, 2, 1, 1, 1, 2, 1, 1, 1, 1, 1, 1, 1, 1, 1, 1, 1, 1,\n",
       "       1, 1, 1, 1, 1, 1, 1, 1, 1, 1, 1, 1, 1, 1, 1, 1, 1, 1, 1, 1, 1, 1, 1,\n",
       "       1, 1, 1, 2, 1, 1, 1, 1, 1, 1, 1, 1, 1, 1, 1, 1, 1, 1, 1, 1, 1, 1, 1,\n",
       "       1, 1, 1, 1, 1, 1, 1, 1, 1, 1, 1, 1, 1, 1, 1, 1, 1, 1, 1, 1, 1, 1, 1,\n",
       "       1, 1, 1, 1, 1, 1, 1, 1, 1, 1, 1, 1, 1, 1, 1, 1, 1, 1, 1, 1, 1, 1, 1,\n",
       "       1, 1, 1, 1, 1, 1, 2, 1, 1, 1, 1, 1, 1, 1, 1, 1, 1, 1, 1, 1, 1, 1, 1,\n",
       "       1, 1, 1, 1, 1, 2, 1, 1, 1, 1, 1, 2, 1, 1, 1, 1, 1, 1, 1, 1, 1, 1, 1,\n",
       "       1, 1, 1, 1, 1, 2, 1, 1, 1, 1, 1, 1, 1, 1, 1, 1, 1, 1, 1, 1, 1, 1, 1,\n",
       "       1, 1, 1, 1, 2, 1, 1, 1, 1, 1, 1, 1, 1, 1, 1, 2, 1, 1, 1, 1, 1, 1, 1,\n",
       "       1, 1, 1, 1, 1, 1, 1, 1, 1, 1, 1, 1, 1, 1, 1, 1])"
      ]
     },
     "execution_count": 157,
     "metadata": {},
     "output_type": "execute_result"
    }
   ],
   "source": [
    "prediction"
   ]
  },
  {
   "cell_type": "code",
   "execution_count": 164,
   "metadata": {
    "collapsed": false
   },
   "outputs": [
    {
     "data": {
      "text/plain": [
       "array([[21, 16, 98, 23],\n",
       "       [17, 11, 77, 17],\n",
       "       [ 4,  4, 17,  3],\n",
       "       [ 1,  0,  5,  1]], dtype=int64)"
      ]
     },
     "execution_count": 164,
     "metadata": {},
     "output_type": "execute_result"
    }
   ],
   "source": [
    "confusion_matrix(y_test, prediction)"
   ]
  },
  {
   "cell_type": "markdown",
   "metadata": {
    "collapsed": true
   },
   "source": [
    "# Code that is not longer used"
   ]
  },
  {
   "cell_type": "code",
   "execution_count": null,
   "metadata": {
    "collapsed": true
   },
   "outputs": [],
   "source": [
    "# Hyperparameter tuning using GridSearchCV \n",
    "# Minimum size for split, max depth, criterion, minimal gain, minimum leaf size\n",
    "# Run this when you get home\n",
    "\n",
    "dt = tree.DecisionTreeClassifier(class_weight=class_weight)\n",
    "rf = ensemble.RandomForestClassifier(class_weight=class_weight)\n",
    "models = [dt, rf]\n",
    "num_trials = 1\n",
    "nested_scores = []\n",
    "start = timeit.default_timer()\n",
    "\n",
    "params = [{'max_depth': range(3, 20), \n",
    "         'criterion': ['gini', 'entropy'],\n",
    "        'min_samples_split': np.linspace(0.1, 0.5, 5),\n",
    "         'min_samples_leaf': np.linspace(0.01,0.5,5),\n",
    "        'min_impurity_decrease': np.linspace(0.1,0.4,4)},\n",
    "         {'n_estimators': np.arange(200,2200,200), 'max_features': ['auto', 'sqrt', 'log2', None],\n",
    "         'min_samples_split': np.linspace(0.1,0.5,5), 'min_samples_leaf': np.linspace(0.01,0.5,5),\n",
    "         'criterion': ['gini', 'entropy'],'bootstrap': [True, False]}]\n",
    "cv_scores_avg = [[] for _ in range(len(models))]\n",
    "cv_scores_std = [[] for _ in range(len(models))]\n",
    "\n",
    "for i in range(0,num_trials):\n",
    "     for j, (model, param) in enumerate(zip(models, params)):  \n",
    "        print model\n",
    "        print param\n",
    "        cv_inner = KFold(n_splits=10, shuffle=True, random_state=i)\n",
    "        cv_outer = KFold(n_splits =10, shuffle=True, random_state=i)\n",
    "\n",
    "        # Inner Loop\n",
    "        clf = GridSearchCV(estimator = model, param_grid=param, cv=cv_inner, scoring=scoring)\n",
    "\n",
    "        # Outer Loop\n",
    "        scores = cross_val_score(clf, X=x_train, y=y_train, cv=cv_outer)\n",
    "        nested_score_avg = scores.mean()\n",
    "        nested_score_std = scores.std()\n",
    "        nested_scores.append(nested_score_avg)\n",
    "        cv_scores_avg.append(nested_score_avg)\n",
    "        cv_scores_std.append(nested_score_std)\n",
    "        print nested_score_avg\n",
    "                                        \n",
    "stop = timeit.default_timer()\n",
    "print('Time: ', stop - start) \n",
    "print scores  # These are scores on the outer folds for you to assess the performance of the model fitting approach \n",
    "print cv_scores_avg  # This score is a unbiased estimate of the performance of the model\n",
    "print cv_scores_std  # This should be as low as possible "
   ]
  },
  {
   "cell_type": "code",
   "execution_count": null,
   "metadata": {
    "collapsed": true
   },
   "outputs": [],
   "source": [
    "# Alternative way of conducting nested cross validation \n",
    "dt = tree.DecisionTreeClassifier()\n",
    "cv_inner = KFold(n_splits=10, shuffle=True, random_state=0)\n",
    "cv_outer = KFold(n_splits=10, shuffle=True, random_state=0)\n",
    "x_train = x_train.reset_index(drop = True)\n",
    "x_test = x_test.reset_index(drop = True)\n",
    "\n",
    "\n",
    "outer_loop_scores = []\n",
    "for train_outer_index, test_outer_index in cv_outer.split(x_train):\n",
    "    x_outer_train, x_outer_test = x_train.loc[train_outer_index,:], x_train.loc[test_outer_index]\n",
    "    \n",
    "    y_outer_train = []\n",
    "    y_outer_test = []\n",
    "    \n",
    "    # Obtaining splits for y in outer loop\n",
    "    for index in train_outer_index:\n",
    "        y_outer_train.append(y_train[index])\n",
    "        y_outer_test.append(y_train[index])\n",
    "        \n",
    "    # Initialize first cross validation loop\n",
    "    clf = GridSearchCV(estimator = dt, param_grid=param, cv=cv_inner, scoring='accuracy')\n",
    "    clf.fit(x_outer_train, y_outer_train)\n",
    "    \n",
    "    outer_loop_scores.append(clf.best_score_)\n",
    "        \n",
    "print outer_loop_scores\n",
    "print outer_loop_scores.mean()\n",
    "print outer_loop_scores.std()\n"
   ]
  },
  {
   "cell_type": "code",
   "execution_count": null,
   "metadata": {
    "collapsed": true
   },
   "outputs": [],
   "source": [
    "# Fitting the model with the tuned hyperparameters\n",
    "\n",
    "model = tree.DecisionTreeClassifier(class_weight=None, criterion=optimalCriterion, random_state=0,\n",
    "                                    max_depth=optimalDepthGSCV, splitter='best').fit(x_train, y_train)\n",
    "\n",
    "#model = tree.DecisionTreeClassifier(class_weight = None, criterion = optimalCriterion, random_state = 0,\n",
    "                                    #max_depth = None, splitter = 'best').fit(x_train,y_train)\n",
    "# exporting into graphviz\n",
    "#dot_data = tree.export_graphviz(model, out_file = None, feature_names = features, class_names = y_train, filled = True, rounded = True,\n",
    "                               #special_characters = True)\n",
    "#graph = graphviz.Source(dot_data)\n",
    "#graph\n",
    "\n",
    "# Exporting into pdf using pydot\n",
    "#graph = pydot.graph_from_dot_data(dotfile.getvalue())\n",
    "#graph[0].write_pdf(\"summer.pdf\")\n",
    "#colors = ('turquoise', 'orange')\n",
    "\n",
    "\n",
    "#graph.write_png('summer.png')"
   ]
  },
  {
   "cell_type": "code",
   "execution_count": null,
   "metadata": {
    "collapsed": true
   },
   "outputs": [],
   "source": [
    "#removes all columns with indoor temperature and indoor relative humidity\n",
    "columnIndoorTemp = []\n",
    "columnIndoorRH = []\n",
    "columnOutdoorRH = []\n",
    "columnOutdoorTemp = []\n",
    "yearMonth = []\n",
    "for i in range(2016,2018):\n",
    "    for j in range(4,13): #Need to adjust this value depending on which columns have been deleted\n",
    "        if i == 2017 and j == 10:\n",
    "            break\n",
    "\n",
    "        if j < 10:\n",
    "            columnIndoorTemp.append(str(i) + '_' + '0' + str(j) + ' Indoor Temp')\n",
    "            columnIndoorRH.append(str(i) + '_' + '0' + str(j) + ' Indoor RH')\n",
    "            columnOutdoorRH.append(str(i) + '_' + '0' + str(j) + ' Outdoor RH')\n",
    "            columnOutdoorTemp.append(str(i) + '_' + '0' + str(j) + ' Outdoor Temp')\n",
    "            yearMonth.append(str(i) + '_' + '0' + str(j))\n",
    "        else: \n",
    "            columnIndoorTemp.append(str(i) + '_' + str(j) + ' Indoor Temp')\n",
    "            columnIndoorRH.append(str(i) + '_' + str(j) + ' Indoor RH')\n",
    "            columnOutdoorRH.append(str(i) + '_' + str(j) + ' Outdoor RH')\n",
    "            columnOutdoorTemp.append(str(i) + '_' + str(j) + ' Outdoor Temp')\n",
    "            yearMonth.append(str(i) + '_' + str(j))\n",
    "\n",
    "        #data = data.drop(columnIndoorTemp,1)\n",
    "        #data = data.drop(columnIndoorRH,1)\n",
    "        #data = data.drop(columnOutdoorRH,1)\n",
    "        #data = data.drop(columnOutdoorTemp,1)\n"
   ]
  },
  {
   "cell_type": "code",
   "execution_count": null,
   "metadata": {
    "collapsed": true
   },
   "outputs": [],
   "source": [
    "# Create histogram of adjustments\n",
    "# Failed first attempt at binning the data\n",
    "#numBins = 6\n",
    "#histWinter,binsWinter = np.histogram(data['2017_01 Adjust'], bins = numBins)\n",
    "#widthsWinter = 0.7*(binsWinter[1] - binsWinter[0])\n",
    "#centerWinter = (binsWinter[:-1]+binsWinter[1:])/2\n",
    "\n",
    "#histSummer, binsSummer = np.histogram(data['2017_07 Adjust'], numBins)\n",
    "#widthsSummer = 0.7*(binsSummer[1] - binsSummer[0])\n",
    "#centerSummer = (binsSummer[:-1] + binsSummer[1:])/2\n",
    "\n",
    "#plt.bar(centerWinter, histWinter, align = 'center', width = widthsWinter)\n",
    "#plt.bar(centerSummer, histSummer, align = 'center', width = widthsSummer)\n",
    "\n",
    "#plt.show()\n",
    "#print binsWinter\n",
    "#print binsSummer"
   ]
  },
  {
   "cell_type": "code",
   "execution_count": null,
   "metadata": {
    "collapsed": true
   },
   "outputs": [],
   "source": [
    "# Plotting cross validation score vs the max depth of the tree\n",
    "%matplotlib inline\n",
    "plt.plot(range(3,20),[t for t in maxDepthArray])\n",
    "plt.plot(range(3,20),[p for p in minScoreArray])\n",
    "plt.plot(range(3,20),[s for s in maxScoreArray])\n",
    "plt.xlabel('Max Depth of Decision Tree')\n",
    "plt.ylabel('CV Accuracy')\n"
   ]
  },
  {
   "cell_type": "code",
   "execution_count": null,
   "metadata": {
    "collapsed": true
   },
   "outputs": [],
   "source": [
    "# Using SelectKBest to see the scores of the features\n",
    "\n",
    "selector = feature_selection.SelectKBest(feature_selection.f_classif, k = 'all')\n",
    "selector.fit_transform(x,y)\n",
    "test = pd.DataFrame({'Features': features, 'Scores': selector.scores_,\n",
    "                     'P-Value': selector.pvalues_})\n",
    "test = test.sort_values('Scores', ascending = False)\n",
    "\n",
    "# Using RFECV to select the best features\n",
    "shuffle = KFold(n_splits = 10, shuffle = True, random_state = 0)\n",
    "selectorRFECV = RFECV(clf, step = 1, cv = shuffle, scoring = 'accuracy')\n",
    "selectorRFECV.fit(x_train,y_train)\n",
    "RFECVdf = pd.DataFrame({'Features': features, 'RFECV Rank': selectorRFECV.ranking_,\n",
    "                       'SelectKBest Scores': selector.scores_,\n",
    "                       'SelectKBest PVal': selector.pvalues_})\n",
    "RFECVdf = RFECVdf.sort_values('RFECV Rank', ascending = True)\n",
    "\n",
    "# Creating a RFECV Rankings for plotting \n",
    "maxRank = max(RFECVdf['RFECV Rank'])\n",
    "rankPlot = []\n",
    "for i in range(0,len(RFECVdf)):\n",
    "    rankPlotTransfer = maxRank - RFECVdf['RFECV Rank'].iloc[i] + 1\n",
    "    rankPlot.append(rankPlotTransfer)\n",
    "\n",
    "RFECVdf['RFECV Rank Plot'] = rankPlot\n",
    "\n",
    "\n",
    "# Plot RFECV feature importances ranking\n",
    "plt.figure(figsize = (15,10))\n",
    "plt.bar(range(0,len(RFECVdf)), RFECVdf['RFECV Rank Plot'], align = 'center')\n",
    "plt.xticks(range(0,len(RFECVdf)), RFECVdf['Features'], rotation = 90)\n",
    "plt.xlabel(\"Features\")\n",
    "plt.rc('xtick', labelsize=15) \n",
    "plt.rc('ytick', labelsize=15)\n",
    "plt.ylabel(\"Feature Rank\")\n",
    "plt.show()\n",
    "\n",
    "# Plot number of features vs. cross-validation scores\n",
    "plt.figure()\n",
    "plt.xlabel(\"Number of features selected\")\n",
    "plt.ylabel(\"Cross validation score (# of correct classifications)\")\n",
    "plt.plot(range(1,len(selectorRFECV.grid_scores_)+1), selectorRFECV.grid_scores_)\n",
    "plt.show()"
   ]
  },
  {
   "cell_type": "code",
   "execution_count": null,
   "metadata": {
    "collapsed": true
   },
   "outputs": [],
   "source": [
    "# Determine the optimal features to include in the model \n",
    "# t-test alpha parameter\n",
    "alpha = [0.05,0.1]\n",
    "\n",
    "\n",
    "featuresCopy = interestedFeatures + houseStyles   + outdoorTemp + climateZone+indoorTemp + indoorRH+ outdoorRH #Change this according to the features you are interested in\n",
    "#featuresCopy = interestedFeatures + houseStyles + cities \n",
    "meanScore = []\n",
    "featuresToRemove = []\n",
    "xOriginal = x_train[features]\n",
    "shuffle = KFold(n_splits = 10, shuffle = True, random_state = 0)\n",
    "scoreOriginal = cross_val_score(clf,xOriginal,y_train,cv = shuffle,scoring = 'accuracy')\n",
    "\n",
    "for i in range(0,len(interestedFeatures)):\n",
    "    check = featuresCopy.pop(0)\n",
    "    \n",
    "    xCheck = x_train[featuresCopy]\n",
    "    meanScore = cross_val_score(clf, xCheck,y_train,cv=shuffle,scoring = 'accuracy')\n",
    "    featuresCopy.append(check)\n",
    "    \n",
    "    \n",
    "    pvalue = stats.ttest_rel(scoreOriginal,meanScore)\n",
    "    pvalue = pvalue[1]\n",
    "    print \"Removed Feature: \" + check\n",
    "    print \"Score with Feature Removed\"\n",
    "    print meanScore\n",
    "    print \"Std: \" + str(np.std(meanScore))\n",
    "    print \"Average: \" + str(meanScore.mean())\n",
    "    print \"Original Score\"\n",
    "    print scoreOriginal\n",
    "    print \"Std: \" + str(np.std(scoreOriginal))\n",
    "    print \"Average: \" + str(scoreOriginal.mean())\n",
    "    print \"T-test P Value: \" + str(pvalue)\n",
    "    \n",
    "    for i in alpha:\n",
    "        if pvalue < i and meanScore.mean() > scoreOriginal.mean():\n",
    "            featuresToRemove.append(check)\n",
    "            print \"Statistically significant improvement at signifiance \" + str(i)\n",
    "    print \"====================\"\n",
    "    print \"\"\n",
    "print featuresToRemove"
   ]
  },
  {
   "cell_type": "code",
   "execution_count": null,
   "metadata": {
    "collapsed": true
   },
   "outputs": [],
   "source": [
    "# Determining the significance of other features\n",
    "#Check features that can be removed\n",
    "\n",
    "featuresCopy =  interestedFeatures +  climateZone + indoorTemp + indoorRH +outdoorTemp + outdoorRH\n",
    "\n",
    "featuresToRemove = []\n",
    "xOriginal = x_train[features]\n",
    "xCheck = x_train[featuresCopy]\n",
    "\n",
    "\n",
    "#shuffle = KFold(n_splits = 10, shuffle = True, random_state = 0)\n",
    "\n",
    "featureRemovedScore = cross_val_score(clf,xCheck,y_train,cv=shuffle,scoring = 'accuracy')\n",
    "\n",
    "ttest = stats.ttest_rel(scoreOriginal,featureRemovedScore)\n",
    "pvalue = ttest[1]\n",
    "tstat = ttest[0]\n",
    "\n",
    "for i in alpha:\n",
    "    if pvalue < i and featureRemovedScore.mean() > scoreOriginal.mean():\n",
    "\n",
    "        print \"Remove Feature!\"\n",
    "        print \"T-test P Value at signifiance \" + str(i) +\": \"  + str(pvalue)\n",
    "        print \"T statistic: \" + str(tstat)\n",
    "    else:\n",
    "        print \"Keep Feature\"\n",
    "        print \"T-test P Value at signifiance \" + str(i) +\": \"  + str(pvalue)\n",
    "        print \"T statistic: \" + str(tstat)\n",
    "\n",
    "print \"\"\n",
    "print \"Original Score\"\n",
    "print scoreOriginal\n",
    "print \"std: \" + str(np.std(scoreOriginal))\n",
    "print \"avg: \" +str(scoreOriginal.mean())\n",
    "print \"\"\n",
    "print \"Feature Removed Score\"\n",
    "print featureRemovedScore\n",
    "print \"std: \" + str(np.std(featureRemovedScore))\n",
    "print \"avg: \" + str(featureRemovedScore.mean())\n",
    "print \"\"\n"
   ]
  },
  {
   "cell_type": "code",
   "execution_count": null,
   "metadata": {
    "collapsed": true
   },
   "outputs": [],
   "source": [
    "# Creating a function that uses 10 fold cross validation to find the optimal max depth of the decision tree\n",
    "\n",
    "def findMaxDepth(classifier, x, y, numFolds):\n",
    "    \n",
    "    maxDepthArray = []\n",
    "    minScoreArray = []\n",
    "    maxScoreArray = []\n",
    "    maxDepthRange = range(3,20)\n",
    "    for i in maxDepthRange:\n",
    "        clf = tree.DecisionTreeClassifier(max_depth = i)\n",
    "\n",
    "        scores = cross_val_score(estimator = clf, X = x, y = y, cv = numFolds, scoring = 'f1_weighted')\n",
    "        maxDepthArray.append(scores.mean())\n",
    "        minScoreArray.append(min(scores))\n",
    "        maxScoreArray.append(max(scores))\n",
    "    maxIndex = maxDepthArray.index(max(maxDepthArray)) \n",
    "    optimalDepth = maxIndex + maxDepthRange[0]\n",
    "    return optimalDepth, max(maxDepthArray), maxDepthArray, minScoreArray, maxScoreArray"
   ]
  },
  {
   "cell_type": "code",
   "execution_count": null,
   "metadata": {
    "collapsed": true
   },
   "outputs": [],
   "source": []
  }
 ],
 "metadata": {
  "kernelspec": {
   "display_name": "Python 2",
   "language": "python",
   "name": "python2"
  },
  "language_info": {
   "codemirror_mode": {
    "name": "ipython",
    "version": 2
   },
   "file_extension": ".py",
   "mimetype": "text/x-python",
   "name": "python",
   "nbconvert_exporter": "python",
   "pygments_lexer": "ipython2",
   "version": "2.7.13"
  }
 },
 "nbformat": 4,
 "nbformat_minor": 0
}
